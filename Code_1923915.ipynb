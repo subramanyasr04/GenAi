from flask import Flask, request, render_template_string
import requests

app = Flask(__name__)

# Set your OpenAI API key and model
api_key = 'sk-dummy'
api_url = 'https://api.openai.com/v1/engines/gpt-3.5-turbo-instruct/completions'  # Use the GPT-3.5-turbo-instruct model endpoint
model = 'gpt-3.5-turbo-instruct'

# HTML template for the web page
html_template = """
<!DOCTYPE html>
<html lang="en">
<head>
<meta charset="UTF-8">
<meta name="viewport" content="width=device-width, initial-scale=1.0">
<meta name="description" content="Talent Management Tool">
<title>Talent Management</title>
<style>
    body {
        font-family: Arial, sans-serif;
        margin: 20px;
        background-color: #f9f9f9; /* Light gray background */
    }
    h1 {
        color: #333; /* Dark gray text color */
    }
    form {
        margin-bottom: 20px;
        display: flex; /* Enable flex layout */
        flex-wrap: wrap; /* Allow wrapping */
    }
    label {
        flex: 0 0 100%; /* Take full width */
        margin-bottom: 5px; /* Space below labels */
    }
    input[type="text"], textarea {
        flex: 1 1 calc(50% - 10px); /* Adjust width and space */
        margin-right: 10px; /* Space between input fields */
        padding: 8px; /* Padding for input fields */
        border-radius: 3px;
        border: 1px solid #ccc; /* Light gray border */
        box-sizing: border-box; /* Include padding in the width */
    }
    button {
        flex: 1 1 100%; /* Take full width */
        background-color: #007bff; /* Blue button background */
        color: #fff; /* White button text color */
        border: none;
        padding: 8px 12px;
        border-radius: 3px;
        cursor: pointer;
        margin-top: 10px; /* Space above button */
    }
    button:hover {
        background-color: #0056b3; /* Darker blue on hover */
    }
    #output {
        margin-top: 20px;
    }
    ul {
        list-style-type: none;
        padding: 0;
    }
    li {
        margin-bottom: 5px;
        color: #007bff; /* Blue text color for recommendations */
        white-space: pre-line; /* Preserve line breaks */
    }
</style>
</head>
<body>
<h1>Talent Management Tool</h1>
<form method="post">
    <label for="currentRole">Current Role:</label>
    <input type="text" id="currentRole" name="currentRole" value="{{ current_role }}">

    <label for="aspiredRole">Aspired Role:</label>
    <input type="text" id="aspiredRole" name="aspiredRole" value="{{ aspired_role }}">

    <label for="currentSkills">Current Skills:</label>
    <textarea id="currentSkills" name="currentSkills">{{ current_skills }}</textarea>

    <button type="submit">Generate Recommendations</button>
</form>

{% if recommendations %}
<div id="output">
    <h2>Recommendations:</h2>
    <ul>
        {% for recommendation in recommendations %}
        <li>{{ recommendation }}</li>
        {% endfor %}
    </ul>
</div>
{% endif %}
</body>
</html>
"""

def generate_recommendations(current_role, aspired_role, current_skills):
    prompt = f"Current Role: {current_role}\nAspired Role: {aspired_role}\nCurrent Skills : {current_skills}\nprovide only the list of skills and ways to learn need to learn from here to achieve the Aspired Role"
    data = {
        "prompt": prompt,
        "max_tokens": 500,  # Increased tokens for more detailed recommendations
        "temperature": 0.7  # Adjusted temperature for varied responses
    }
    headers = {
        "Authorization": f"Bearer {api_key}",
        "Content-Type": "application/json"
    }
    response = requests.post(api_url, json=data, headers=headers)
    
    if response.status_code == 200:
        choices = response.json()['choices']
        recommendations = [choice['text'].strip() for choice in choices]
        return recommendations[:5]  # Return top 5 recommendations
    else:
        return [f"Error: {response.text}"]

@app.route('/', methods=['GET', 'POST'])
def talent_management():
    current_role = request.form.get('currentRole', '')
    aspired_role = request.form.get('aspiredRole', '')
    current_skills = request.form.get('currentSkills', '')

    if request.method == 'POST':
        recommendations = generate_recommendations(current_role, aspired_role, current_skills)
        return render_template_string(html_template, recommendations=recommendations,
                                     current_role=current_role, aspired_role=aspired_role, current_skills=current_skills)

    return render_template_string(html_template, current_role=current_role, aspired_role=aspired_role, current_skills=current_skills)

if __name__ == '__main__':
    app.run(debug=True)